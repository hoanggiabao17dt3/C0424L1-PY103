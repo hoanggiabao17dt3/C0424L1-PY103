{
 "cells": [
  {
   "cell_type": "markdown",
   "id": "24ced122-c487-4db5-9fb7-8861fad19c2e",
   "metadata": {},
   "source": [
    "## Bài 1\n",
    "Viết chương trình nhập vào 2 số nguyên `num1` và `num2`. In ra tích của 2 số nguyên đó."
   ]
  },
  {
   "cell_type": "code",
   "execution_count": 5,
   "id": "d0f13dbc-3412-4c8e-b157-27d066205874",
   "metadata": {},
   "outputs": [
    {
     "name": "stdin",
     "output_type": "stream",
     "text": [
      "Nhap so nguyen thu nhat:  5\n",
      "Nhap so nguyen thu hai:  4\n"
     ]
    },
    {
     "name": "stdout",
     "output_type": "stream",
     "text": [
      "20\n",
      "5 * 4 = 20\n"
     ]
    }
   ],
   "source": [
    "num1 = int(input(\"Nhap so nguyen thu nhat: \"))\n",
    "num2 = int(input(\"Nhap so nguyen thu hai: \"))\n",
    "result = num1 * num2\n",
    "print(result)\n",
    "print(f\"{num1} * {num2} = {result}\")"
   ]
  },
  {
   "cell_type": "markdown",
   "id": "a725831c-98ba-4c63-a350-28dc3a989a99",
   "metadata": {},
   "source": [
    "## Bài 2 \n",
    "Nhập vào ba biến `diem_toan`, `diem_ly`, `diem_hoa` và in ra điểm trung bình của ba môn học trên."
   ]
  },
  {
   "cell_type": "code",
   "execution_count": 8,
   "id": "151cc532-1168-4440-8703-2a99307fce5f",
   "metadata": {},
   "outputs": [
    {
     "name": "stdin",
     "output_type": "stream",
     "text": [
      " Nhap diem mon toan:  7\n",
      " Nhap diem mon ly:  8\n",
      " Nhap diem mon hoa:  9\n"
     ]
    },
    {
     "name": "stdout",
     "output_type": "stream",
     "text": [
      "Diem trung binh la: 8.0\n"
     ]
    }
   ],
   "source": [
    "diem_toan = float(input(\" Nhap diem mon toan: \"))\n",
    "diem_ly = float(input(\" Nhap diem mon ly: \"))\n",
    "diem_hoa = float(input(\" Nhap diem mon hoa: \"))\n",
    "diem_tb = (diem_toan + diem_ly + diem_hoa)/3\n",
    "print(f\"Diem trung binh la: {diem_tb}\")"
   ]
  },
  {
   "cell_type": "markdown",
   "id": "2e3080b9-9d54-4772-9d54-7a810904dc21",
   "metadata": {},
   "source": [
    "## Bài 3\n",
    "Nhập vào vận tốc của đoàn tàu theo đơn vị km/h.\n",
    "\n",
    "a. Hỏi trung bình mỗi phút đoàn tàu đi được bao nhiêu mét?\n",
    "\n",
    "b. Sau 1 giờ 12 phút đoàn tàu đi được bao nhiêu km?"
   ]
  },
  {
   "cell_type": "code",
   "execution_count": 15,
   "id": "c34f6a0d-7d2f-4e42-8b7d-6cc9998cf549",
   "metadata": {},
   "outputs": [
    {
     "name": "stdin",
     "output_type": "stream",
     "text": [
      "Nhap van toc cua doan tau theo km/h:  33\n"
     ]
    },
    {
     "name": "stdout",
     "output_type": "stream",
     "text": [
      "Trung binh moi phut doan tau di duoc 550.0110000000001 met\n",
      "Quãng đường tàu đi sau 1h12m: 39.6 km\n"
     ]
    }
   ],
   "source": [
    "v_kmh = int(input(\"Nhap van toc cua doan tau theo km/h: \"))\n",
    "# Câu a\n",
    "trung_binh = v_kmh * 16.667\n",
    "print(f\"Trung binh moi phut doan tau di duoc {trung_binh} met\") \n",
    "\n",
    "# Câu b\n",
    "s_72_min = v_kmh /60 * 72\n",
    "print(f\"Quãng đường tàu đi sau 1h12m: {s_72_min} km\")\n"
   ]
  }
 ],
 "metadata": {
  "kernelspec": {
   "display_name": "Python 3 (ipykernel)",
   "language": "python",
   "name": "python3"
  },
  "language_info": {
   "codemirror_mode": {
    "name": "ipython",
    "version": 3
   },
   "file_extension": ".py",
   "mimetype": "text/x-python",
   "name": "python",
   "nbconvert_exporter": "python",
   "pygments_lexer": "ipython3",
   "version": "3.12.3"
  }
 },
 "nbformat": 4,
 "nbformat_minor": 5
}
